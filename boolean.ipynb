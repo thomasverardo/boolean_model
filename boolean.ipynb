{
 "cells": [
  {
   "cell_type": "code",
   "execution_count": null,
   "metadata": {},
   "outputs": [],
   "source": []
  },
  {
   "cell_type": "code",
   "execution_count": 1,
   "metadata": {},
   "outputs": [
    {
     "name": "stdout",
     "output_type": "stream",
     "text": [
      "my dog is good\n",
      "my cat is on the table\n",
      "my spider is on the wall\n"
     ]
    }
   ],
   "source": [
    "doc = {\n",
    "    \"one\": \"my dog is good\",\n",
    "    \"two\": \"my cat is on the table\",\n",
    "    \"three\": \"my spider is on the wall\"\n",
    "}\n",
    "\n",
    "for n, item in doc.items():\n",
    "    print(item)"
   ]
  }
 ],
 "metadata": {
  "kernelspec": {
   "display_name": "ml",
   "language": "python",
   "name": "python3"
  },
  "language_info": {
   "codemirror_mode": {
    "name": "ipython",
    "version": 3
   },
   "file_extension": ".py",
   "mimetype": "text/x-python",
   "name": "python",
   "nbconvert_exporter": "python",
   "pygments_lexer": "ipython3",
   "version": "3.10.1"
  },
  "orig_nbformat": 4
 },
 "nbformat": 4,
 "nbformat_minor": 2
}
